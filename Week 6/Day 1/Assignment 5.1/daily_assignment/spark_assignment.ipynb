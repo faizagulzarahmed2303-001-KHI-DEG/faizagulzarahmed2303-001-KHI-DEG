{
 "cells": [
  {
   "cell_type": "code",
   "execution_count": 1,
   "id": "9fa85bd8-9b4d-4e37-a1be-4dbe35977f7b",
   "metadata": {},
   "outputs": [],
   "source": [
    "from pyspark.sql import SparkSession\n",
    "from pyspark.sql.functions import *"
   ]
  },
  {
   "cell_type": "code",
   "execution_count": 2,
   "id": "04a351fc-85aa-4040-9303-91ad9558230b",
   "metadata": {
    "tags": []
   },
   "outputs": [],
   "source": [
    "scSpark = SparkSession.builder.appName(\"Spark Assignment\").getOrCreate()"
   ]
  },
  {
   "cell_type": "markdown",
   "id": "33f00f5e-ba87-406f-8c1f-537f6ae089db",
   "metadata": {},
   "source": [
    "### Importing files with their specific paths "
   ]
  },
  {
   "cell_type": "code",
   "execution_count": 3,
   "id": "758fd45e-aef3-4f3e-a71b-e6aaa9d80bb3",
   "metadata": {
    "tags": []
   },
   "outputs": [],
   "source": [
    "productfile = \"data/products.csv\"\n",
    "customersfile = \"data/customers.csv\"\n",
    "store_transactions_1 = \"data/store_transactions/transactions_1.csv\"\n",
    "store_transactions_2 = \"data/store_transactions/transactions_2.csv\"\n",
    "store_transactions_3 = \"data/store_transactions/transactions_3.csv\""
   ]
  },
  {
   "cell_type": "markdown",
   "id": "c99a3211-e6f5-4e99-99be-199f4fd01041",
   "metadata": {},
   "source": [
    "### 1. Calculating daily total sales for store with id 1"
   ]
  },
  {
   "cell_type": "markdown",
   "id": "9e484452-208b-4daf-a76d-10f288fcb7c4",
   "metadata": {},
   "source": [
    "#### Using header=True to specify first row is the header, inferSchema= True to allocate appropriate datatype to each column "
   ]
  },
  {
   "cell_type": "code",
   "execution_count": 4,
   "id": "a3e3413b-8a73-40fe-8ac1-ff74e612cdf2",
   "metadata": {
    "tags": []
   },
   "outputs": [],
   "source": [
    "df_productfile = scSpark.read.csv(productfile, header=True, inferSchema=True)\n",
    "df_store_transactions_1 = scSpark.read.csv(store_transactions_1, header=True, inferSchema=True)"
   ]
  },
  {
   "cell_type": "code",
   "execution_count": 5,
   "id": "9e3d0e51-602d-4fc0-a889-a6fbabeb0b03",
   "metadata": {
    "tags": []
   },
   "outputs": [
    {
     "name": "stdout",
     "output_type": "stream",
     "text": [
      "+---------+------------+--------+---------+\n",
      "|ProductId|        Name|Category|UnitPrice|\n",
      "+---------+------------+--------+---------+\n",
      "|        1|  Red Shorts|  Shorts|    89.75|\n",
      "|        2|White Shorts|  Shorts|    89.27|\n",
      "|        3| Blue Shorts|  Shorts|   118.88|\n",
      "|        4|Green Shorts|  Shorts|   121.43|\n",
      "|        5|Black Shorts|  Shorts|    74.58|\n",
      "+---------+------------+--------+---------+\n",
      "only showing top 5 rows\n",
      "\n"
     ]
    }
   ],
   "source": [
    "df_productfile.show(5)"
   ]
  },
  {
   "cell_type": "code",
   "execution_count": 6,
   "id": "96bad418-879b-42e4-af36-b9e619bf509c",
   "metadata": {
    "tags": []
   },
   "outputs": [
    {
     "name": "stdout",
     "output_type": "stream",
     "text": [
      "+-------+-------------+----------+---------+--------+-------------------+\n",
      "|StoreId|TransactionId|CustomerId|ProductId|Quantity|    TransactionTime|\n",
      "+-------+-------------+----------+---------+--------+-------------------+\n",
      "|      1|          971|        13|        2|      10|2022-12-23 04:13:05|\n",
      "|      1|          605|         7|       10|       5|2022-12-23 09:36:22|\n",
      "|      1|          567|        37|        2|       8|2022-12-23 19:44:43|\n",
      "|      1|          607|        38|        5|       4|2022-12-23 04:36:41|\n",
      "|      1|          141|        17|        9|       7|2022-12-23 19:11:29|\n",
      "+-------+-------------+----------+---------+--------+-------------------+\n",
      "only showing top 5 rows\n",
      "\n"
     ]
    }
   ],
   "source": [
    "df_store_transactions_1.show(5)"
   ]
  },
  {
   "cell_type": "markdown",
   "id": "9506fc1b-5831-48c0-9896-da27fb55b176",
   "metadata": {},
   "source": [
    "#### Merging products with store one transcation based on productid "
   ]
  },
  {
   "cell_type": "code",
   "execution_count": 7,
   "id": "8832042e-1395-4c99-900a-54723e53cbbc",
   "metadata": {
    "tags": []
   },
   "outputs": [],
   "source": [
    "df_product_transactions_s1 = df_productfile.join(df_store_transactions_1, 'ProductId')"
   ]
  },
  {
   "cell_type": "code",
   "execution_count": 8,
   "id": "899ad4f1-1d74-4169-a8fe-4d06f1be4228",
   "metadata": {
    "tags": []
   },
   "outputs": [
    {
     "name": "stdout",
     "output_type": "stream",
     "text": [
      "+---------+--------------+--------+---------+-------+-------------+----------+--------+-------------------+\n",
      "|ProductId|          Name|Category|UnitPrice|StoreId|TransactionId|CustomerId|Quantity|    TransactionTime|\n",
      "+---------+--------------+--------+---------+-------+-------------+----------+--------+-------------------+\n",
      "|        2|  White Shorts|  Shorts|    89.27|      1|          971|        13|      10|2022-12-23 04:13:05|\n",
      "|       10|Black Sneakers|   Shoes|   146.41|      1|          605|         7|       5|2022-12-23 09:36:22|\n",
      "|        2|  White Shorts|  Shorts|    89.27|      1|          567|        37|       8|2022-12-23 19:44:43|\n",
      "|        5|  Black Shorts|  Shorts|    74.58|      1|          607|        38|       4|2022-12-23 04:36:41|\n",
      "|        9| Green Sandals|   Shoes|   137.53|      1|          141|        17|       7|2022-12-23 19:11:29|\n",
      "+---------+--------------+--------+---------+-------+-------------+----------+--------+-------------------+\n",
      "only showing top 5 rows\n",
      "\n"
     ]
    }
   ],
   "source": [
    "df_product_transactions_s1.show(5)"
   ]
  },
  {
   "cell_type": "markdown",
   "id": "28b19ba6-400b-43e0-a3f7-1070c421cb82",
   "metadata": {},
   "source": [
    "#### Calculating total price for each row "
   ]
  },
  {
   "cell_type": "code",
   "execution_count": 9,
   "id": "e517777a-5d13-4b3b-a8f9-d236a2e4cd0f",
   "metadata": {
    "tags": []
   },
   "outputs": [],
   "source": [
    "df_product_transactions_s1 = df_product_transactions_s1.withColumn('Total' , round(col('UnitPrice') * col('Quantity'), 2) )"
   ]
  },
  {
   "cell_type": "code",
   "execution_count": 10,
   "id": "2f865d28-7665-4936-ad6f-568c12e527ae",
   "metadata": {
    "tags": []
   },
   "outputs": [
    {
     "name": "stdout",
     "output_type": "stream",
     "text": [
      "+---------+--------------+--------+---------+-------+-------------+----------+--------+-------------------+------+\n",
      "|ProductId|          Name|Category|UnitPrice|StoreId|TransactionId|CustomerId|Quantity|    TransactionTime| Total|\n",
      "+---------+--------------+--------+---------+-------+-------------+----------+--------+-------------------+------+\n",
      "|        2|  White Shorts|  Shorts|    89.27|      1|          971|        13|      10|2022-12-23 04:13:05| 892.7|\n",
      "|       10|Black Sneakers|   Shoes|   146.41|      1|          605|         7|       5|2022-12-23 09:36:22|732.05|\n",
      "|        2|  White Shorts|  Shorts|    89.27|      1|          567|        37|       8|2022-12-23 19:44:43|714.16|\n",
      "|        5|  Black Shorts|  Shorts|    74.58|      1|          607|        38|       4|2022-12-23 04:36:41|298.32|\n",
      "|        9| Green Sandals|   Shoes|   137.53|      1|          141|        17|       7|2022-12-23 19:11:29|962.71|\n",
      "+---------+--------------+--------+---------+-------+-------------+----------+--------+-------------------+------+\n",
      "only showing top 5 rows\n",
      "\n"
     ]
    }
   ],
   "source": [
    "df_product_transactions_s1.show(5)"
   ]
  },
  {
   "cell_type": "markdown",
   "id": "bca99634-6bdc-4164-a188-fd50aafafbfe",
   "metadata": {},
   "source": [
    "#### Calculating total sales per day by summing up all the total price, as data contains the all trasaction of single day, so no need to use group by :). "
   ]
  },
  {
   "cell_type": "code",
   "execution_count": 11,
   "id": "97c39c3a-d776-4f7a-898c-845edf25d15a",
   "metadata": {
    "tags": []
   },
   "outputs": [
    {
     "name": "stdout",
     "output_type": "stream",
     "text": [
      "+--------------------+\n",
      "|round(sum(Total), 2)|\n",
      "+--------------------+\n",
      "|             41264.0|\n",
      "+--------------------+\n",
      "\n"
     ]
    }
   ],
   "source": [
    "total_sales_per_day = df_product_transactions_s1.select(round(sum('Total'),2))\n",
    "total_sales_per_day.show()"
   ]
  },
  {
   "cell_type": "markdown",
   "id": "ac48ac6a-7d0c-41dc-82af-c2c6149bbc5d",
   "metadata": {},
   "source": [
    "### 2.Calculating mean sales for store with id 2"
   ]
  },
  {
   "cell_type": "code",
   "execution_count": 12,
   "id": "1b0717e2-890d-468c-afa6-c03aaab58c7f",
   "metadata": {
    "tags": []
   },
   "outputs": [],
   "source": [
    "df_store_transactions_2 = scSpark.read.csv(store_transactions_2, header=True, inferSchema=True)"
   ]
  },
  {
   "cell_type": "code",
   "execution_count": 13,
   "id": "d3c84bbc-c281-4ae8-8462-f2b5be2ee649",
   "metadata": {
    "tags": []
   },
   "outputs": [
    {
     "name": "stdout",
     "output_type": "stream",
     "text": [
      "+-------+-------------+----------+---------+--------+-------------------+\n",
      "|StoreId|TransactionId|CustomerId|ProductId|Quantity|    TransactionTime|\n",
      "+-------+-------------+----------+---------+--------+-------------------+\n",
      "|      2|            2|         2|        2|       2|2022-12-23 18:49:45|\n",
      "|      2|            2|         2|        2|       2|2022-12-23 13:19:51|\n",
      "|      2|            2|         2|        2|       2|2022-12-23 22:39:21|\n",
      "|      2|          514|        14|       21|       5|2022-12-23 00:24:15|\n",
      "|      2|          363|        44|       16|       2|2022-12-23 10:46:04|\n",
      "+-------+-------------+----------+---------+--------+-------------------+\n",
      "only showing top 5 rows\n",
      "\n"
     ]
    }
   ],
   "source": [
    "df_store_transactions_2.show(5)"
   ]
  },
  {
   "cell_type": "markdown",
   "id": "da3b83a3-b095-4d6c-9524-2846aba391c0",
   "metadata": {},
   "source": [
    "#### Merging products with store two transcation based on productid "
   ]
  },
  {
   "cell_type": "code",
   "execution_count": 14,
   "id": "6416c79c-c98a-44b0-9b88-7cb30f2b4f7d",
   "metadata": {
    "tags": []
   },
   "outputs": [
    {
     "name": "stdout",
     "output_type": "stream",
     "text": [
      "+---------+------------+--------+---------+-------+-------------+----------+--------+-------------------+\n",
      "|ProductId|        Name|Category|UnitPrice|StoreId|TransactionId|CustomerId|Quantity|    TransactionTime|\n",
      "+---------+------------+--------+---------+-------+-------------+----------+--------+-------------------+\n",
      "|        2|White Shorts|  Shorts|    89.27|      2|            2|         2|       2|2022-12-23 18:49:45|\n",
      "|        2|White Shorts|  Shorts|    89.27|      2|            2|         2|       2|2022-12-23 13:19:51|\n",
      "|        2|White Shorts|  Shorts|    89.27|      2|            2|         2|       2|2022-12-23 22:39:21|\n",
      "|       21|  Red Chinos|   Pants|   134.42|      2|          514|        14|       5|2022-12-23 00:24:15|\n",
      "|       16|Blue t-shirt|T-Shirts|   140.68|      2|          363|        44|       2|2022-12-23 10:46:04|\n",
      "+---------+------------+--------+---------+-------+-------------+----------+--------+-------------------+\n",
      "only showing top 5 rows\n",
      "\n"
     ]
    }
   ],
   "source": [
    "df_product_transactions_s2 = df_productfile.join(df_store_transactions_2, 'ProductId')\n",
    "df_product_transactions_s2.show(5)"
   ]
  },
  {
   "cell_type": "markdown",
   "id": "4dcbcec1-26b9-426c-b960-e4a031a0235f",
   "metadata": {
    "tags": []
   },
   "source": [
    "#### Calculating total price for each row "
   ]
  },
  {
   "cell_type": "code",
   "execution_count": 15,
   "id": "6edd3d9c-d53d-44bc-b85a-08b5cc09a51f",
   "metadata": {
    "tags": []
   },
   "outputs": [
    {
     "name": "stdout",
     "output_type": "stream",
     "text": [
      "+---------+------------+--------+---------+-------+-------------+----------+--------+-------------------+------+\n",
      "|ProductId|        Name|Category|UnitPrice|StoreId|TransactionId|CustomerId|Quantity|    TransactionTime| Total|\n",
      "+---------+------------+--------+---------+-------+-------------+----------+--------+-------------------+------+\n",
      "|        2|White Shorts|  Shorts|    89.27|      2|            2|         2|       2|2022-12-23 18:49:45|178.54|\n",
      "|        2|White Shorts|  Shorts|    89.27|      2|            2|         2|       2|2022-12-23 13:19:51|178.54|\n",
      "|        2|White Shorts|  Shorts|    89.27|      2|            2|         2|       2|2022-12-23 22:39:21|178.54|\n",
      "|       21|  Red Chinos|   Pants|   134.42|      2|          514|        14|       5|2022-12-23 00:24:15| 672.1|\n",
      "|       16|Blue t-shirt|T-Shirts|   140.68|      2|          363|        44|       2|2022-12-23 10:46:04|281.36|\n",
      "+---------+------------+--------+---------+-------+-------------+----------+--------+-------------------+------+\n",
      "only showing top 5 rows\n",
      "\n"
     ]
    }
   ],
   "source": [
    "df_product_transactions_s2 = df_product_transactions_s2.withColumn('Total',round(col('UnitPrice') * col('Quantity'), 2))\n",
    "df_product_transactions_s2.show(5)"
   ]
  },
  {
   "cell_type": "markdown",
   "id": "d5d4c517-b053-44e4-8a9c-907afa38ce7c",
   "metadata": {},
   "source": [
    "#### Calculating mean sales for store id 2"
   ]
  },
  {
   "cell_type": "code",
   "execution_count": 16,
   "id": "54b0e77b-72db-4263-b70d-5fff8bddf8d8",
   "metadata": {
    "tags": []
   },
   "outputs": [],
   "source": [
    "mean_sales = df_product_transactions_s2.agg(round(mean('Total'), 2))"
   ]
  },
  {
   "cell_type": "code",
   "execution_count": 17,
   "id": "5681bcac-3174-4bfd-8ef3-c652d96599d2",
   "metadata": {
    "tags": []
   },
   "outputs": [
    {
     "name": "stdout",
     "output_type": "stream",
     "text": [
      "+--------------------+\n",
      "|round(avg(Total), 2)|\n",
      "+--------------------+\n",
      "|              513.46|\n",
      "+--------------------+\n",
      "\n"
     ]
    }
   ],
   "source": [
    "mean_sales.show()"
   ]
  },
  {
   "cell_type": "markdown",
   "id": "21b6305f-886b-47fd-b922-adc8124e998a",
   "metadata": {
    "tags": []
   },
   "source": [
    "### 3. Finding email of the client who spent the most by summing up his purchases from all of the stores"
   ]
  },
  {
   "cell_type": "code",
   "execution_count": 18,
   "id": "85eaff42-75fb-4789-afdf-ba383c7de8ba",
   "metadata": {
    "tags": []
   },
   "outputs": [
    {
     "name": "stdout",
     "output_type": "stream",
     "text": [
      "+-------+-------------+----------+---------+--------+-------------------+\n",
      "|StoreId|TransactionId|CustomerId|ProductId|Quantity|    TransactionTime|\n",
      "+-------+-------------+----------+---------+--------+-------------------+\n",
      "|      3|          454|        35|        3|       3|2022-12-23 17:36:11|\n",
      "|      3|          524|        37|        9|      11|2022-12-23 22:02:51|\n",
      "|      3|          562|         4|        3|       4|2022-12-23 02:51:50|\n",
      "|      3|          581|        35|       14|      56|2022-12-23 17:05:54|\n",
      "|      3|          200|        34|       15|      24|2022-12-23 07:15:01|\n",
      "+-------+-------------+----------+---------+--------+-------------------+\n",
      "only showing top 5 rows\n",
      "\n"
     ]
    }
   ],
   "source": [
    "df_store_transactions_3 = scSpark.read.csv(store_transactions_3, header=True, inferSchema=True)\n",
    "df_store_transactions_3.show(5)"
   ]
  },
  {
   "cell_type": "markdown",
   "id": "372ba147-c541-4b98-bc03-abc8fc88f028",
   "metadata": {},
   "source": [
    "#### Merging the all stores transactions df using union function, as each df contained same columns :)"
   ]
  },
  {
   "cell_type": "code",
   "execution_count": 19,
   "id": "ce4e63d8-d044-4b6f-9270-a7cdfb0e50fd",
   "metadata": {
    "tags": []
   },
   "outputs": [],
   "source": [
    "df_all_store_transactions = df_store_transactions_1.union(df_store_transactions_2).union(df_store_transactions_3)"
   ]
  },
  {
   "cell_type": "code",
   "execution_count": 20,
   "id": "59cf16d1-dd5a-42cc-9c1b-98e27fe98edc",
   "metadata": {
    "tags": []
   },
   "outputs": [
    {
     "name": "stdout",
     "output_type": "stream",
     "text": [
      "+-------+-------------+----------+---------+--------+-------------------+\n",
      "|StoreId|TransactionId|CustomerId|ProductId|Quantity|    TransactionTime|\n",
      "+-------+-------------+----------+---------+--------+-------------------+\n",
      "|      1|          971|        13|        2|      10|2022-12-23 04:13:05|\n",
      "|      1|          605|         7|       10|       5|2022-12-23 09:36:22|\n",
      "|      1|          567|        37|        2|       8|2022-12-23 19:44:43|\n",
      "|      1|          607|        38|        5|       4|2022-12-23 04:36:41|\n",
      "|      1|          141|        17|        9|       7|2022-12-23 19:11:29|\n",
      "+-------+-------------+----------+---------+--------+-------------------+\n",
      "only showing top 5 rows\n",
      "\n"
     ]
    }
   ],
   "source": [
    "df_all_store_transactions.show(5)"
   ]
  },
  {
   "cell_type": "code",
   "execution_count": 21,
   "id": "b7f533cd-eada-40c5-a745-3d7ab16082cf",
   "metadata": {
    "tags": []
   },
   "outputs": [
    {
     "data": {
      "text/plain": [
       "152"
      ]
     },
     "execution_count": 21,
     "metadata": {},
     "output_type": "execute_result"
    }
   ],
   "source": [
    "df_all_store_transactions.count()"
   ]
  },
  {
   "cell_type": "code",
   "execution_count": 22,
   "id": "b1b4ae40-7483-477f-bc32-3239afd7ce91",
   "metadata": {
    "tags": []
   },
   "outputs": [
    {
     "name": "stdout",
     "output_type": "stream",
     "text": [
      "+----------+--------------+--------------------+\n",
      "|CustomerId|          Name|               Email|\n",
      "+----------+--------------+--------------------+\n",
      "|         1|Emilia Pedraza|emilia.pedraza@ex...|\n",
      "|         2|  Thies Blümel|thies.blumel@exam...|\n",
      "|         3| بهاره علیزاده|bhrh.aalyzdh@exam...|\n",
      "|         4| Alevtin Paska|alevtin.paska@exa...|\n",
      "|         5|Charlotte Wong|charlotte.wong@ex...|\n",
      "+----------+--------------+--------------------+\n",
      "only showing top 5 rows\n",
      "\n"
     ]
    }
   ],
   "source": [
    "df_customersfile = scSpark.read.csv(customersfile, header=True, inferSchema=True)\n",
    "df_customersfile.show(5)"
   ]
  },
  {
   "cell_type": "markdown",
   "id": "a0d5ea2f-99ea-41ef-b05a-513329899552",
   "metadata": {},
   "source": [
    "#### Merging the customers to all store transactions based on CustomerId"
   ]
  },
  {
   "cell_type": "code",
   "execution_count": 23,
   "id": "8129e006-491b-4dc7-b4b1-ebcfa56d9ee6",
   "metadata": {
    "tags": []
   },
   "outputs": [
    {
     "name": "stdout",
     "output_type": "stream",
     "text": [
      "+----------+--------------------+--------------------+-------+-------------+---------+--------+-------------------+\n",
      "|CustomerId|                Name|               Email|StoreId|TransactionId|ProductId|Quantity|    TransactionTime|\n",
      "+----------+--------------------+--------------------+-------+-------------+---------+--------+-------------------+\n",
      "|        13|      Elizabeth Neal|elizabeth.neal@ex...|      1|          971|        2|      10|2022-12-23 04:13:05|\n",
      "|         7|          Dominic Lo|dominic.lo@exampl...|      1|          605|       10|       5|2022-12-23 09:36:22|\n",
      "|        37|       Brittany Holt|brittany.holt@exa...|      1|          567|        2|       8|2022-12-23 19:44:43|\n",
      "|        38|  Filomeno Fernandes|filomeno.fernande...|      1|          607|        5|       4|2022-12-23 04:36:41|\n",
      "|        17|Sevastiana Nester...|sevastiana.nester...|      1|          141|        9|       7|2022-12-23 19:11:29|\n",
      "+----------+--------------------+--------------------+-------+-------------+---------+--------+-------------------+\n",
      "only showing top 5 rows\n",
      "\n"
     ]
    }
   ],
   "source": [
    "df_customer_transactions = df_customersfile.join(df_all_store_transactions, 'CustomerId')\n",
    "df_customer_transactions.show(5)\n"
   ]
  },
  {
   "cell_type": "markdown",
   "id": "346193c4-131d-4451-ae25-5bf58213ad31",
   "metadata": {},
   "source": [
    "#### Changing the column name as it will conflict with product name because both df have the same column name :)"
   ]
  },
  {
   "cell_type": "code",
   "execution_count": 24,
   "id": "5fa986a0-8dc4-4bda-b490-6c342d10baf2",
   "metadata": {
    "tags": []
   },
   "outputs": [
    {
     "name": "stdout",
     "output_type": "stream",
     "text": [
      "+----------+--------------------+--------------------+-------+-------------+---------+--------+-------------------+\n",
      "|CustomerId|        CustomerName|               Email|StoreId|TransactionId|ProductId|Quantity|    TransactionTime|\n",
      "+----------+--------------------+--------------------+-------+-------------+---------+--------+-------------------+\n",
      "|        13|      Elizabeth Neal|elizabeth.neal@ex...|      1|          971|        2|      10|2022-12-23 04:13:05|\n",
      "|         7|          Dominic Lo|dominic.lo@exampl...|      1|          605|       10|       5|2022-12-23 09:36:22|\n",
      "|        37|       Brittany Holt|brittany.holt@exa...|      1|          567|        2|       8|2022-12-23 19:44:43|\n",
      "|        38|  Filomeno Fernandes|filomeno.fernande...|      1|          607|        5|       4|2022-12-23 04:36:41|\n",
      "|        17|Sevastiana Nester...|sevastiana.nester...|      1|          141|        9|       7|2022-12-23 19:11:29|\n",
      "+----------+--------------------+--------------------+-------+-------------+---------+--------+-------------------+\n",
      "only showing top 5 rows\n",
      "\n"
     ]
    }
   ],
   "source": [
    "df_customer_transactions = df_customer_transactions.withColumnRenamed('Name', \"CustomerName\")\n",
    "df_customer_transactions.show(5)"
   ]
  },
  {
   "cell_type": "markdown",
   "id": "9daf53bb-6bd7-46ad-a089-c6ba1083a9b4",
   "metadata": {},
   "source": [
    "#### Merging the all customer transactions with products based on product id, also renaming the column name."
   ]
  },
  {
   "cell_type": "code",
   "execution_count": 25,
   "id": "c66584b8-7d14-4096-b81a-b9b6fa913053",
   "metadata": {
    "tags": []
   },
   "outputs": [
    {
     "name": "stdout",
     "output_type": "stream",
     "text": [
      "+---------+----------+--------------------+--------------------+-------+-------------+--------+-------------------+--------------+--------+---------+\n",
      "|ProductId|CustomerId|        CustomerName|               Email|StoreId|TransactionId|Quantity|    TransactionTime|   ProductName|Category|UnitPrice|\n",
      "+---------+----------+--------------------+--------------------+-------+-------------+--------+-------------------+--------------+--------+---------+\n",
      "|        2|        13|      Elizabeth Neal|elizabeth.neal@ex...|      1|          971|      10|2022-12-23 04:13:05|  White Shorts|  Shorts|    89.27|\n",
      "|       10|         7|          Dominic Lo|dominic.lo@exampl...|      1|          605|       5|2022-12-23 09:36:22|Black Sneakers|   Shoes|   146.41|\n",
      "|        2|        37|       Brittany Holt|brittany.holt@exa...|      1|          567|       8|2022-12-23 19:44:43|  White Shorts|  Shorts|    89.27|\n",
      "|        5|        38|  Filomeno Fernandes|filomeno.fernande...|      1|          607|       4|2022-12-23 04:36:41|  Black Shorts|  Shorts|    74.58|\n",
      "|        9|        17|Sevastiana Nester...|sevastiana.nester...|      1|          141|       7|2022-12-23 19:11:29| Green Sandals|   Shoes|   137.53|\n",
      "+---------+----------+--------------------+--------------------+-------+-------------+--------+-------------------+--------------+--------+---------+\n",
      "only showing top 5 rows\n",
      "\n"
     ]
    }
   ],
   "source": [
    "df_customer_products_transactions = df_customer_transactions.join(df_productfile, 'ProductId').withColumnRenamed('Name','ProductName')\n",
    "df_customer_products_transactions.show(5)"
   ]
  },
  {
   "cell_type": "markdown",
   "id": "5b0014f8-fb37-4c07-bca0-5f951cdb86ed",
   "metadata": {},
   "source": [
    "#### Calculating total price for each row to find maximum purchase"
   ]
  },
  {
   "cell_type": "code",
   "execution_count": 26,
   "id": "223b138a-5a20-4149-bd3d-8e670b5e9253",
   "metadata": {
    "tags": []
   },
   "outputs": [
    {
     "name": "stdout",
     "output_type": "stream",
     "text": [
      "+---------+----------+--------------------+--------------------+-------+-------------+--------+-------------------+--------------+--------+---------+------+\n",
      "|ProductId|CustomerId|        CustomerName|               Email|StoreId|TransactionId|Quantity|    TransactionTime|   ProductName|Category|UnitPrice| Total|\n",
      "+---------+----------+--------------------+--------------------+-------+-------------+--------+-------------------+--------------+--------+---------+------+\n",
      "|        2|        13|      Elizabeth Neal|elizabeth.neal@ex...|      1|          971|      10|2022-12-23 04:13:05|  White Shorts|  Shorts|    89.27| 892.7|\n",
      "|       10|         7|          Dominic Lo|dominic.lo@exampl...|      1|          605|       5|2022-12-23 09:36:22|Black Sneakers|   Shoes|   146.41|732.05|\n",
      "|        2|        37|       Brittany Holt|brittany.holt@exa...|      1|          567|       8|2022-12-23 19:44:43|  White Shorts|  Shorts|    89.27|714.16|\n",
      "|        5|        38|  Filomeno Fernandes|filomeno.fernande...|      1|          607|       4|2022-12-23 04:36:41|  Black Shorts|  Shorts|    74.58|298.32|\n",
      "|        9|        17|Sevastiana Nester...|sevastiana.nester...|      1|          141|       7|2022-12-23 19:11:29| Green Sandals|   Shoes|   137.53|962.71|\n",
      "+---------+----------+--------------------+--------------------+-------+-------------+--------+-------------------+--------------+--------+---------+------+\n",
      "only showing top 5 rows\n",
      "\n"
     ]
    }
   ],
   "source": [
    "df_customer_products_transactions = df_customer_products_transactions.withColumn('Total',round(col('UnitPrice') * col('Quantity'), 2))\n",
    "df_customer_products_transactions.show(5)"
   ]
  },
  {
   "cell_type": "markdown",
   "id": "4208446f-5cbb-489f-888c-dd8670ad3879",
   "metadata": {},
   "source": [
    "#### Calculating total purchased sum for each client"
   ]
  },
  {
   "cell_type": "code",
   "execution_count": 27,
   "id": "5b9324b0-a395-4e95-a4f2-16d50e80a9e0",
   "metadata": {
    "tags": []
   },
   "outputs": [
    {
     "name": "stdout",
     "output_type": "stream",
     "text": [
      "+--------------------+------------+\n",
      "|               Email|PurchasedSum|\n",
      "+--------------------+------------+\n",
      "|emilia.pedraza@ex...|     5633.58|\n",
      "|flenn.henderson@e...|     3279.46|\n",
      "|filomeno.fernande...|     1580.47|\n",
      "|lucas.christianse...|      744.78|\n",
      "|kiara.brun@exampl...|      1383.8|\n",
      "+--------------------+------------+\n",
      "only showing top 5 rows\n",
      "\n"
     ]
    }
   ],
   "source": [
    "customer_purchased_sum = df_customer_products_transactions.groupBy('Email').agg(round(sum('Total'), 2).alias(\"PurchasedSum\"))\n",
    "customer_purchased_sum.show(5)"
   ]
  },
  {
   "cell_type": "markdown",
   "id": "7769cc96-23c5-42ad-8b82-0ca3e508ddfc",
   "metadata": {},
   "source": [
    "#### Calculating max sum from all purchased sum of each, storing value in max_purchased at row one, item first, instead of whole row"
   ]
  },
  {
   "cell_type": "code",
   "execution_count": 28,
   "id": "7af9fa78-b69f-4310-b9fe-2a2bc2c1a4b0",
   "metadata": {
    "tags": []
   },
   "outputs": [],
   "source": [
    "max_purchased = customer_purchased_sum.agg(max('PurchasedSum')).collect()[0][0]"
   ]
  },
  {
   "cell_type": "code",
   "execution_count": 29,
   "id": "91c832f8-c083-45bb-946d-0c010c7ad011",
   "metadata": {
    "tags": []
   },
   "outputs": [
    {
     "data": {
      "text/plain": [
       "10653.08"
      ]
     },
     "execution_count": 29,
     "metadata": {},
     "output_type": "execute_result"
    }
   ],
   "source": [
    "max_purchased"
   ]
  },
  {
   "cell_type": "markdown",
   "id": "10288a20-dadd-4180-93dd-f234ffc7e83e",
   "metadata": {},
   "source": [
    "#### Fetching the email of client who has  purchased maximum. "
   ]
  },
  {
   "cell_type": "code",
   "execution_count": 30,
   "id": "507399bf-954f-4fff-bfed-e2fa6f57868c",
   "metadata": {
    "tags": []
   },
   "outputs": [],
   "source": [
    "max_buyer_email = customer_purchased_sum.filter(customer_purchased_sum.PurchasedSum == max_purchased).collect()"
   ]
  },
  {
   "cell_type": "code",
   "execution_count": 31,
   "id": "cded56e2-1335-42ca-99d8-8b714da71601",
   "metadata": {
    "tags": []
   },
   "outputs": [
    {
     "data": {
      "text/plain": [
       "[Row(Email='dwayne.johnson@gmail.com', PurchasedSum=10653.08)]"
      ]
     },
     "execution_count": 31,
     "metadata": {},
     "output_type": "execute_result"
    }
   ],
   "source": [
    "max_buyer_email"
   ]
  },
  {
   "cell_type": "markdown",
   "id": "890f5efc-00e4-444f-b733-30018e07426b",
   "metadata": {},
   "source": [
    "### 4. Fining 5 products that are most frequently bought across all stores in both terms based on transactions and quantity sold. "
   ]
  },
  {
   "cell_type": "markdown",
   "id": "012057e9-93f1-42dc-a035-c32cbbcc5807",
   "metadata": {
    "tags": []
   },
   "source": [
    "### Finding 5 products based on transactions"
   ]
  },
  {
   "cell_type": "markdown",
   "id": "4441023a-93a9-4a77-9787-696d8d96b7fe",
   "metadata": {
    "tags": []
   },
   "source": [
    "#### couting the products according to their number of transaction grouping them by their name."
   ]
  },
  {
   "cell_type": "code",
   "execution_count": 32,
   "id": "221bdf6a-2858-4a19-83cc-2893a0802654",
   "metadata": {
    "tags": []
   },
   "outputs": [
    {
     "name": "stdout",
     "output_type": "stream",
     "text": [
      "+---------------+-----+\n",
      "|    ProductName|count|\n",
      "+---------------+-----+\n",
      "|  Blue Sneakers|    4|\n",
      "|Grey Sweatpants|    1|\n",
      "|   Green Shorts|    6|\n",
      "|     Red Shorts|    7|\n",
      "| Black Sneakers|    5|\n",
      "|    Red Sandals|    6|\n",
      "|  White Sandals|    3|\n",
      "|       Bracelet|    4|\n",
      "|   White Shorts|   20|\n",
      "|   Black Shorts|    9|\n",
      "|  Green Sandals|    6|\n",
      "|    Blue Shorts|    6|\n",
      "|          Watch|    5|\n",
      "|     Red Chinos|    4|\n",
      "|  Green t-shirt|    4|\n",
      "|    Red t-shirt|    6|\n",
      "|     Blue Jeans|    7|\n",
      "|    Black Jeans|    4|\n",
      "|   White Chinos|    3|\n",
      "|       Earrings|    5|\n",
      "+---------------+-----+\n",
      "only showing top 20 rows\n",
      "\n"
     ]
    }
   ],
   "source": [
    "products_bought = df_customer_products_transactions.groupBy('ProductName').count()\n",
    "products_bought.show()"
   ]
  },
  {
   "cell_type": "markdown",
   "id": "460d5ed1-f978-471a-8e1f-072bc234834a",
   "metadata": {
    "tags": []
   },
   "source": [
    "#### 5 products that are most frequently bought based on transactions "
   ]
  },
  {
   "cell_type": "code",
   "execution_count": 33,
   "id": "4553cd63-fb9c-4dba-bb38-ed5e9af4dc28",
   "metadata": {
    "tags": []
   },
   "outputs": [
    {
     "name": "stdout",
     "output_type": "stream",
     "text": [
      "+-------------+-----+\n",
      "|  ProductName|count|\n",
      "+-------------+-----+\n",
      "| White Shorts|   20|\n",
      "| Black Shorts|    9|\n",
      "| Green jacket|    9|\n",
      "|White t-shirt|    8|\n",
      "|   Red Shorts|    7|\n",
      "+-------------+-----+\n",
      "\n"
     ]
    }
   ],
   "source": [
    "max_5_products_bought = products_bought.orderBy(desc('count')).limit(5)\n",
    "max_5_products_bought.show()"
   ]
  },
  {
   "cell_type": "markdown",
   "id": "3246649e-9c4c-4dbb-9672-df808dd67791",
   "metadata": {},
   "source": [
    "### Finding 5 products based on Quantity Sold "
   ]
  },
  {
   "cell_type": "markdown",
   "id": "e5c6128c-14df-4054-963b-50b693a474bc",
   "metadata": {},
   "source": [
    "#### Calculating total quanty sold for each product "
   ]
  },
  {
   "cell_type": "code",
   "execution_count": 34,
   "id": "3b97a1d7-7e2d-434a-9bda-4ef64c3a4cca",
   "metadata": {
    "tags": []
   },
   "outputs": [
    {
     "name": "stdout",
     "output_type": "stream",
     "text": [
      "+---------------+-----------------+\n",
      "|    ProductName|TotalQuantitySold|\n",
      "+---------------+-----------------+\n",
      "|  Blue Sneakers|               21|\n",
      "|Grey Sweatpants|                1|\n",
      "|   Green Shorts|               30|\n",
      "|     Red Shorts|               65|\n",
      "| Black Sneakers|               30|\n",
      "|    Red Sandals|               63|\n",
      "|  White Sandals|               24|\n",
      "|       Bracelet|               24|\n",
      "|   White Shorts|               73|\n",
      "|   Black Shorts|               75|\n",
      "|  Green Sandals|               42|\n",
      "|    Blue Shorts|               36|\n",
      "|          Watch|               26|\n",
      "|     Red Chinos|               23|\n",
      "|  Green t-shirt|               17|\n",
      "|    Red t-shirt|               82|\n",
      "|     Blue Jeans|               77|\n",
      "|    Black Jeans|               18|\n",
      "|   White Chinos|               18|\n",
      "|       Earrings|               22|\n",
      "+---------------+-----------------+\n",
      "only showing top 20 rows\n",
      "\n"
     ]
    }
   ],
   "source": [
    "products_bought2 = df_customer_products_transactions.groupBy('ProductName').agg(sum(\"Quantity\").alias(\"TotalQuantitySold\"))\n",
    "products_bought2.show()"
   ]
  },
  {
   "cell_type": "markdown",
   "id": "31bacbcc-8882-473e-adb0-c5320454f2f6",
   "metadata": {},
   "source": [
    "#### 5 products that are most frequently bought based on Quantity Sold"
   ]
  },
  {
   "cell_type": "code",
   "execution_count": 35,
   "id": "b101e335-7c3e-4eb4-9d52-97a1aa1cd2a5",
   "metadata": {
    "tags": []
   },
   "outputs": [
    {
     "name": "stdout",
     "output_type": "stream",
     "text": [
      "+-------------+-----------------+\n",
      "|  ProductName|TotalQuantitySold|\n",
      "+-------------+-----------------+\n",
      "|  Red t-shirt|               82|\n",
      "|   Blue Jeans|               77|\n",
      "|White t-shirt|               76|\n",
      "| Black Shorts|               75|\n",
      "| Green jacket|               74|\n",
      "+-------------+-----------------+\n",
      "\n"
     ]
    }
   ],
   "source": [
    "max_5_products_bought2 = products_bought2.orderBy(desc('TotalQuantitySold')).limit(5)\n",
    "max_5_products_bought2.show()"
   ]
  },
  {
   "cell_type": "code",
   "execution_count": null,
   "id": "7e552e33-f99d-49fa-b010-474e38ce5061",
   "metadata": {},
   "outputs": [],
   "source": []
  }
 ],
 "metadata": {
  "kernelspec": {
   "display_name": "Python 3 (ipykernel)",
   "language": "python",
   "name": "python3"
  },
  "language_info": {
   "codemirror_mode": {
    "name": "ipython",
    "version": 3
   },
   "file_extension": ".py",
   "mimetype": "text/x-python",
   "name": "python",
   "nbconvert_exporter": "python",
   "pygments_lexer": "ipython3",
   "version": "3.10.11"
  }
 },
 "nbformat": 4,
 "nbformat_minor": 5
}
